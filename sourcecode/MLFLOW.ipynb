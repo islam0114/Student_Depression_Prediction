{
 "cells": [
  {
   "cell_type": "code",
   "execution_count": 2,
   "id": "d10ea56b",
   "metadata": {},
   "outputs": [
    {
     "name": "stdout",
     "output_type": "stream",
     "text": [
      "تم تسجيل التجربة بنجاح!\n"
     ]
    }
   ],
   "source": [
    "import mlflow\n",
    "\n",
    "# بدء تجربة جديدة\n",
    "with mlflow.start_run():\n",
    "    # سجل بعض المعلمات\n",
    "    mlflow.log_param(\"param1\", 5)\n",
    "    \n",
    "    # سجل نتيجة\n",
    "    mlflow.log_metric(\"accuracy\", 0.95)\n",
    "    \n",
    "    print(\"تم تسجيل التجربة بنجاح!\")\n"
   ]
  }
 ],
 "metadata": {
  "kernelspec": {
   "display_name": "base",
   "language": "python",
   "name": "python3"
  },
  "language_info": {
   "codemirror_mode": {
    "name": "ipython",
    "version": 3
   },
   "file_extension": ".py",
   "mimetype": "text/x-python",
   "name": "python",
   "nbconvert_exporter": "python",
   "pygments_lexer": "ipython3",
   "version": "3.12.7"
  }
 },
 "nbformat": 4,
 "nbformat_minor": 5
}
